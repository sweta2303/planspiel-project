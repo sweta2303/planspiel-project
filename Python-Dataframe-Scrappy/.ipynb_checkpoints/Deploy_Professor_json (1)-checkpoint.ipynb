{
 "cells": [
  {
   "cell_type": "code",
   "execution_count": 1,
   "metadata": {
    "id": "prHsgxMm95dK"
   },
   "outputs": [],
   "source": [
    "import numpy as np\n",
    "import pandas as pd\n",
    "import pandas as pd\n",
    "import requests\n",
    "import json\n",
    "from bs4 import BeautifulSoup\n",
    "API_KEY = '53a69a9d20bb303c61f3677c50867ebf'\n",
    "URL = \"https://www.researchgate.net/search.Search.html?type=researcher&query=\"\n",
    "def get_me_skills(ln_name):\n",
    "    URL_TO_SCRAPE = URL+ln_name\n",
    "    payload = {'api_key': API_KEY, 'url': URL_TO_SCRAPE}\n",
    "    print(URL_TO_SCRAPE)\n",
    "    s = requests.get('http://api.scraperapi.com', params=payload, timeout=60)\n",
    "    webpage = BeautifulSoup(s.text)\n",
    "    sub_web_page = webpage.findAll(name=\"ul\", attrs={\"class\": \"nova-e-list nova-e-list--size-m nova-e-list--type-inline nova-e-list--spacing-none nova-v-person-item__info-section-list\"})[2]\n",
    "    #return json.dumps({'SKILLS':[str(wp.text.strip(\"\\n \").replace(\",\", \"\")) for wp in sub_web_page.find_all(\"span\")]})\n",
    "    return [str(wp.text.strip(\"\\n \").replace(\",\", \"\")) for wp in sub_web_page.find_all(\"span\")]"
   ]
  },
  {
   "cell_type": "code",
   "execution_count": 2,
   "metadata": {
    "colab": {
     "base_uri": "https://localhost:8080/",
     "height": 498
    },
    "id": "OMI7G2ZLFAAt",
    "outputId": "50267314-384f-47b5-8713-654984b6c6fc"
   },
   "outputs": [
    {
     "name": "stdout",
     "output_type": "stream",
     "text": [
      "https://www.researchgate.net/search.Search.html?type=researcher&query=Martin Gaedke\n"
     ]
    }
   ],
   "source": [
    "ln_all_details = []\n",
    "df = pd.read_csv(\"prof_names.csv\", encoding= 'unicode_escape',header=None)\n",
    "df = df[~(df[0].isnull())]\n",
    "for i in df[0]:\n",
    "    ln_all_details.append([i,get_me_skills(i)])\n",
    "#pd.DataFrame(ln_all_details).to_csv(\"skillSets.csv\")\n",
    "df.merge(pd.DataFrame(ln_all_details),left_on=0,right_on=0,how='inner').to_csv(\"skillSets.csv\",header=None)"
   ]
  }
 ],
 "metadata": {
  "colab": {
   "collapsed_sections": [],
   "name": "Deploy_Professor_json.ipynb",
   "provenance": []
  },
  "kernelspec": {
   "display_name": "Python 3",
   "language": "python",
   "name": "python3"
  },
  "language_info": {
   "codemirror_mode": {
    "name": "ipython",
    "version": 3
   },
   "file_extension": ".py",
   "mimetype": "text/x-python",
   "name": "python",
   "nbconvert_exporter": "python",
   "pygments_lexer": "ipython3",
   "version": "3.8.5"
  }
 },
 "nbformat": 4,
 "nbformat_minor": 1
}

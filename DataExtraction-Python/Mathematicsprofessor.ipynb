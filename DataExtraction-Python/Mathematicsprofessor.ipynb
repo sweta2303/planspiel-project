{
 "cells": [
  {
   "cell_type": "code",
   "execution_count": 4,
   "metadata": {},
   "outputs": [],
   "source": [
    "import requests\n",
    "import bs4\n",
    "import json\n",
    "\n",
    "def scrape():\n",
    "        result = requests.get(\"https://www.tu-chemnitz.de/mathematik/professuren/prof.en.php\")\n",
    "        soup= bs4.BeautifulSoup(result.text,\"lxml\")\n",
    "        department=soup.select('.tucal-proflist a')\n",
    "        faculty=soup.select('#tucal-orgtitle div')\n",
    "        proffessor=soup.select('.tucal-proflist span')\n",
    "        depname = []\n",
    "        profname=[]\n",
    "        for dname in department:\n",
    "            depname.append(dname.text)\n",
    "        for pname in proffessor:\n",
    "            profname.append(pname.text)\n",
    "        proflist= list(zip(depname,profname))\n",
    "        content=[]\n",
    "        for branch,name in proflist:\n",
    "            info={\n",
    "                \"Branch\" : branch,\n",
    "                \"name\" :name,\n",
    "                \"Faculties\" :faculty[0].text\n",
    "            }\n",
    "            content.append(info)\n",
    "        json_string = json.dumps(content,sort_keys=True, indent=4)\n",
    "        with open(\"/Users/puja1/Desktop/masters/sem3/planspiel/mathematics.json\", \"w\") as file:\n",
    "            file.write(json_string)\n",
    "\n",
    "scrape()\n"
   ]
  },
  {
   "cell_type": "code",
   "execution_count": null,
   "metadata": {},
   "outputs": [],
   "source": []
  }
 ],
 "metadata": {
  "kernelspec": {
   "display_name": "Python 3",
   "language": "python",
   "name": "python3"
  },
  "language_info": {
   "codemirror_mode": {
    "name": "ipython",
    "version": 3
   },
   "file_extension": ".py",
   "mimetype": "text/x-python",
   "name": "python",
   "nbconvert_exporter": "python",
   "pygments_lexer": "ipython3",
   "version": "3.7.6"
  }
 },
 "nbformat": 4,
 "nbformat_minor": 4
}

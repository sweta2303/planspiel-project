{
 "cells": [
  {
   "cell_type": "code",
   "execution_count": 34,
   "metadata": {},
   "outputs": [
    {
     "name": "stdout",
     "output_type": "stream",
     "text": [
      "\n",
      "Vorträge | Sonstiges | Professur Theoretische Informatik | Fakultät für Informatik | TU Chemnitz lxml\n",
      "\n"
     ]
    }
   ],
   "source": [
    "from bs4 import BeautifulSoup\n",
    "import requests\n",
    "import json\n",
    "import pandas as pd\n",
    "url = 'https://www.tu-chemnitz.de/informatik/TI/sonstiges/veranstaltungen.php'\n",
    "header = {'User-Agent':'Mozilla/5.0 (X11; Linux x86_64) AppleWebKit/537.36 (KHTML, like Gecko) Chrome/86.0.4240.183 Safari/537.36 RuxitSynthetic/1.0 v7576960906 t38550 ath9b965f92 altpub cvcv=2'}\n",
    "\n",
    "response = requests.get(url, headers=header)\n",
    "html = response.text\n",
    "soup = BeautifulSoup(html, 'html.parser')\n",
    "\n",
    "print()\n",
    "print(soup.title.text, 'lxml')\n",
    "print()\n",
    "\n",
    "top_rest = soup.find('div', class_=\"col-sm-9 col-xs-12 tucal-canvas\")\n",
    "#print(top_rest)\n",
    "list_tr = top_rest.find_all('div',class_=\"row\")\n",
    "for tr in list_tr:\n",
    "    name = tr.find('table',class_=\"ohne zeile\").text\n",
    "    #print(name) \n",
    "with open(\"data_file.json\", \"w\") as write_file:\n",
    "    json.dump(name, write_file) \n"
   ]
  },
  {
   "cell_type": "code",
   "execution_count": 35,
   "metadata": {},
   "outputs": [
    {
     "name": "stdout",
     "output_type": "stream",
     "text": [
      "\n",
      "Distributed and Self-organizing Systems (VSR)\r\n",
      "    : About VSR\r\n",
      "    : People\r\n",
      "\r\n",
      "\n",
      "\n"
     ]
    }
   ],
   "source": [
    "from bs4 import BeautifulSoup\n",
    "import requests\n",
    "import json\n",
    "import pandas as pd\n",
    "url = 'https://vsr.informatik.tu-chemnitz.de/about/people/'\n",
    "header = {'User-Agent':'Mozilla/5.0 (X11; Linux x86_64) AppleWebKit/537.36 (KHTML, like Gecko) Chrome/86.0.4240.183 Safari/537.36 RuxitSynthetic/1.0 v7576960906 t38550 ath9b965f92 altpub cvcv=2'}\n",
    "\n",
    "response = requests.get(url, headers=header)\n",
    "html = response.text\n",
    "soup = BeautifulSoup(html, 'html.parser')\n",
    "\n",
    "print()\n",
    "print(soup.title.text)\n",
    "print()\n",
    "\n",
    "top_rest = soup.find('div', class_=\"tab-content\")\n",
    "#print(top_rest)\n",
    "list_tr = top_rest.find_all('div',class_=\"detail-box\")\n",
    "for tr in list_tr:\n",
    "    name = tr.find('div',class_=\"details\").text\n",
    "    #print(name)\n",
    "with open(\"datavsr_file.json\", \"w\") as write_file:\n",
    "    json.dump(name, write_file) "
   ]
  },
  {
   "cell_type": "code",
   "execution_count": null,
   "metadata": {},
   "outputs": [],
   "source": []
  }
 ],
 "metadata": {
  "kernelspec": {
   "display_name": "Python 3",
   "language": "python",
   "name": "python3"
  },
  "language_info": {
   "codemirror_mode": {
    "name": "ipython",
    "version": 3
   },
   "file_extension": ".py",
   "mimetype": "text/x-python",
   "name": "python",
   "nbconvert_exporter": "python",
   "pygments_lexer": "ipython3",
   "version": "3.7.6"
  }
 },
 "nbformat": 4,
 "nbformat_minor": 4
}
